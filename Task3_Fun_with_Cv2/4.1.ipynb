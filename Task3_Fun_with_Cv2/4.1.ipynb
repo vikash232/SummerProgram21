{
 "cells": [
  {
   "cell_type": "code",
   "execution_count": 1,
   "metadata": {},
   "outputs": [],
   "source": [
    "import cv2"
   ]
  },
  {
   "cell_type": "code",
   "execution_count": 2,
   "metadata": {},
   "outputs": [],
   "source": [
    "import numpy as np"
   ]
  },
  {
   "cell_type": "code",
   "execution_count": 3,
   "metadata": {},
   "outputs": [],
   "source": [
    "img=np.zeros((600,600,3))"
   ]
  },
  {
   "cell_type": "code",
   "execution_count": 4,
   "metadata": {},
   "outputs": [],
   "source": [
    "img[60:150,250:350]=[255,165,0]\n",
    "img[150:170,285:320]=[255,165,0]\n",
    "img[170:300,230:370]=[0,255,0]\n",
    "img[170:200,200:230]=[0,255,0]\n",
    "img[170:200,370:400]=[0,255,0]\n",
    "img[200:270,200:215]=[255,165,0]\n",
    "img[200:270,385:400]=[255,165,0]\n",
    "img[270:300,195:220]=[255,165,50]\n",
    "img[270:300,380:405]=[255,165,50]\n",
    "img[300:500,230:370]=[0,0,255]\n",
    "img[300:500,298:302]=[0,0,0]\n",
    "img[500:515,250:280]=[255,165,0]\n",
    "img[500:515,320:350]=[255,165,0]\n",
    "img[515:550,240:290]=[255,0,0]\n",
    "img[515:550,310:360]=[255,0,0]\n",
    "img[70:90,260:280]=[0,0,0]\n",
    "img[70:90,320:340]=[0,0,0]\n",
    "img[100:115,290:310]=[0,255,255]\n",
    "img[125:140,270:330]=[0,0,255]"
   ]
  },
  {
   "cell_type": "code",
   "execution_count": 5,
   "metadata": {},
   "outputs": [],
   "source": [
    "cv2.imshow('hi',img)\n",
    "cv2.waitKey()\n",
    "cv2.destroyAllWindows()"
   ]
  },
  {
   "cell_type": "code",
   "execution_count": null,
   "metadata": {},
   "outputs": [],
   "source": []
  },
  {
   "cell_type": "code",
   "execution_count": null,
   "metadata": {},
   "outputs": [],
   "source": []
  }
 ],
 "metadata": {
  "kernelspec": {
   "display_name": "Python 3",
   "language": "python",
   "name": "python3"
  },
  "language_info": {
   "codemirror_mode": {
    "name": "ipython",
    "version": 3
   },
   "file_extension": ".py",
   "mimetype": "text/x-python",
   "name": "python",
   "nbconvert_exporter": "python",
   "pygments_lexer": "ipython3",
   "version": "3.8.3"
  }
 },
 "nbformat": 4,
 "nbformat_minor": 4
}
